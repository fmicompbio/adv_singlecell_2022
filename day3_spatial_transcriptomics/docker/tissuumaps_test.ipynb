{
 "cells": [
  {
   "cell_type": "code",
   "execution_count": 1,
   "id": "f54cb162-96b8-4fb8-bfda-717705768edb",
   "metadata": {},
   "outputs": [
    {
     "name": "stderr",
     "output_type": "stream",
     "text": [
      "INFO:root: * TissUUmaps version: 3.0.7.4\n"
     ]
    }
   ],
   "source": [
    "import numpy as np\n",
    "from skimage.io import imsave\n",
    "from skimage.util import img_as_ubyte\n",
    "import pandas as pd\n",
    "\n",
    "import tissuumaps\n",
    "import tissuumaps.jupyter as tmap\n"
   ]
  },
  {
   "cell_type": "code",
   "execution_count": 2,
   "id": "40a367b5-99b0-44f7-9684-e2c65a474f66",
   "metadata": {},
   "outputs": [],
   "source": [
    "# make the image\n",
    "image = img_as_ubyte(np.random.random((128, 128)))\n",
    "image_path = \"test_im.png\"\n",
    "imsave(image_path, img_as_ubyte(image))\n"
   ]
  },
  {
   "cell_type": "code",
   "execution_count": 3,
   "id": "fad55167-b6a7-49db-89d2-81aaab7a750d",
   "metadata": {},
   "outputs": [
    {
     "data": {
      "text/html": [
       "<div>\n",
       "<style scoped>\n",
       "    .dataframe tbody tr th:only-of-type {\n",
       "        vertical-align: middle;\n",
       "    }\n",
       "\n",
       "    .dataframe tbody tr th {\n",
       "        vertical-align: top;\n",
       "    }\n",
       "\n",
       "    .dataframe thead th {\n",
       "        text-align: right;\n",
       "    }\n",
       "</style>\n",
       "<table border=\"1\" class=\"dataframe\">\n",
       "  <thead>\n",
       "    <tr style=\"text-align: right;\">\n",
       "      <th></th>\n",
       "      <th>x</th>\n",
       "      <th>y</th>\n",
       "      <th>color</th>\n",
       "    </tr>\n",
       "  </thead>\n",
       "  <tbody>\n",
       "    <tr>\n",
       "      <th>0</th>\n",
       "      <td>19.677287</td>\n",
       "      <td>64.893018</td>\n",
       "      <td>0.451882</td>\n",
       "    </tr>\n",
       "    <tr>\n",
       "      <th>1</th>\n",
       "      <td>91.386714</td>\n",
       "      <td>89.737170</td>\n",
       "      <td>0.629164</td>\n",
       "    </tr>\n",
       "    <tr>\n",
       "      <th>2</th>\n",
       "      <td>27.383570</td>\n",
       "      <td>20.078106</td>\n",
       "      <td>0.642053</td>\n",
       "    </tr>\n",
       "    <tr>\n",
       "      <th>3</th>\n",
       "      <td>43.064634</td>\n",
       "      <td>96.121090</td>\n",
       "      <td>0.770406</td>\n",
       "    </tr>\n",
       "    <tr>\n",
       "      <th>4</th>\n",
       "      <td>30.255092</td>\n",
       "      <td>113.795958</td>\n",
       "      <td>0.590197</td>\n",
       "    </tr>\n",
       "    <tr>\n",
       "      <th>5</th>\n",
       "      <td>100.963260</td>\n",
       "      <td>25.000123</td>\n",
       "      <td>0.077637</td>\n",
       "    </tr>\n",
       "    <tr>\n",
       "      <th>6</th>\n",
       "      <td>94.321607</td>\n",
       "      <td>39.779598</td>\n",
       "      <td>0.745228</td>\n",
       "    </tr>\n",
       "    <tr>\n",
       "      <th>7</th>\n",
       "      <td>50.179525</td>\n",
       "      <td>80.559355</td>\n",
       "      <td>0.561568</td>\n",
       "    </tr>\n",
       "    <tr>\n",
       "      <th>8</th>\n",
       "      <td>26.201599</td>\n",
       "      <td>54.952631</td>\n",
       "      <td>0.458892</td>\n",
       "    </tr>\n",
       "    <tr>\n",
       "      <th>9</th>\n",
       "      <td>55.727468</td>\n",
       "      <td>100.534595</td>\n",
       "      <td>0.633138</td>\n",
       "    </tr>\n",
       "  </tbody>\n",
       "</table>\n",
       "</div>"
      ],
      "text/plain": [
       "            x           y     color\n",
       "0   19.677287   64.893018  0.451882\n",
       "1   91.386714   89.737170  0.629164\n",
       "2   27.383570   20.078106  0.642053\n",
       "3   43.064634   96.121090  0.770406\n",
       "4   30.255092  113.795958  0.590197\n",
       "5  100.963260   25.000123  0.077637\n",
       "6   94.321607   39.779598  0.745228\n",
       "7   50.179525   80.559355  0.561568\n",
       "8   26.201599   54.952631  0.458892\n",
       "9   55.727468  100.534595  0.633138"
      ]
     },
     "execution_count": 3,
     "metadata": {},
     "output_type": "execute_result"
    }
   ],
   "source": [
    "# make the csv\n",
    "x_coordinates = 127 * np.random.random((10,))\n",
    "y_coordinates = 127 * np.random.random((10,))\n",
    "\n",
    "df = pd.DataFrame({\"x\": x_coordinates, \"y\": y_coordinates, \"color\": np.random.random((10,))})\n",
    "csv_path = \"test_points.csv\"\n",
    "df.to_csv(csv_path)\n",
    "df"
   ]
  },
  {
   "cell_type": "code",
   "execution_count": 4,
   "id": "5d5c2f54-0124-4d55-903d-662883aa232a",
   "metadata": {},
   "outputs": [
    {
     "name": "stdout",
     "output_type": "stream",
     "text": [
      "Creating project file /home/jovyan/work/_project.tmap\n"
     ]
    },
    {
     "data": {
      "text/html": [
       "<iframe src=\"http://localhost:5101/_project.tmap?path=home/jovyan/work\" style=\"width: 100%; height: 700px; border: none\" id=\"tissUUmapsViewer_a709dc14a3\" allowfullscreen></iframe>"
      ],
      "text/plain": [
       "<IPython.core.display.HTML object>"
      ]
     },
     "metadata": {},
     "output_type": "display_data"
    },
    {
     "data": {
      "text/plain": [
       "<tissuumaps.jupyter.TissUUmapsViewer at 0x7fb15070a4c0>"
      ]
     },
     "execution_count": 4,
     "metadata": {},
     "output_type": "execute_result"
    }
   ],
   "source": [
    "tmap.loaddata(\n",
    "    images=[image_path], \n",
    "    csvFiles=[csv_path], \n",
    "    xSelector=\"x\", ySelector=\"y\",\n",
    "    scaleFactor=1, port=5101\n",
    ")\n"
   ]
  },
  {
   "cell_type": "code",
   "execution_count": null,
   "id": "e8603a96-41eb-4b2b-9a69-2339f3d67ab0",
   "metadata": {},
   "outputs": [],
   "source": []
  }
 ],
 "metadata": {
  "kernelspec": {
   "display_name": "Python 3 (ipykernel)",
   "language": "python",
   "name": "python3"
  },
  "language_info": {
   "codemirror_mode": {
    "name": "ipython",
    "version": 3
   },
   "file_extension": ".py",
   "mimetype": "text/x-python",
   "name": "python",
   "nbconvert_exporter": "python",
   "pygments_lexer": "ipython3",
   "version": "3.9.10"
  }
 },
 "nbformat": 4,
 "nbformat_minor": 5
}
