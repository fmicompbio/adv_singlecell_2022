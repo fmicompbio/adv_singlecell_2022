{
 "cells": [
  {
   "cell_type": "markdown",
   "id": "99c5ffcf",
   "metadata": {
    "cell_marker": "\"\"\"",
    "tags": []
   },
   "source": [
    "Import spatial data in AnnData and Squidpy\n",
    "==========================================\n",
    "\n",
    "This tutorial shows how to store spatial datasets in :class:`anndata.AnnData`.\n",
    "\n",
    "Spatial molecular data comes in many different formats, and to date there is no\n",
    "one-size-fit-all solution for reading spatial data in Python.\n",
    "Scanpy already provides a solution for Visium Spatial transcriptomics data with\n",
    "the function :func:`scanpy.read_visium` but that is basically it.\n",
    "Here in Squidpy, we do provide some pre-processed (and pre-formatted) datasets,\n",
    "with the module :mod:`squidpy.datasets` but it's not very useful for the users\n",
    "who need to import their own data.\n",
    "\n",
    "In this tutorial, we will showcase how spatial data are stored in :class:`anndata.AnnData`.\n",
    "We will use mock datasets for this purpose, yet showing with examples the important\n",
    "details that you should take care of in order to exploit the full functionality of the\n",
    "*AnnData-Scanpy-Squidpy* ecosystem."
   ]
  },
  {
   "cell_type": "code",
   "execution_count": 1,
   "id": "30dc0388",
   "metadata": {},
   "outputs": [
    {
     "name": "stdout",
     "output_type": "stream",
     "text": [
      "scanpy==1.8.2 anndata==0.7.8 umap==0.5.2 numpy==1.20.0 scipy==1.7.3 pandas==1.4.2 scikit-learn==1.0.2 statsmodels==0.13.2 python-igraph==0.9.9 pynndescent==0.5.6\n",
      "squidpy==1.2.0\n"
     ]
    }
   ],
   "source": [
    "from anndata import AnnData\n",
    "import scanpy as sc\n",
    "import squidpy as sq\n",
    "import numpy as np\n",
    "from numpy.random import default_rng\n",
    "\n",
    "import matplotlib.pyplot as plt\n",
    "\n",
    "sc.logging.print_header()\n",
    "print(f\"squidpy=={sq.__version__}\")"
   ]
  },
  {
   "cell_type": "markdown",
   "id": "68edac31",
   "metadata": {
    "lines_to_next_cell": 0
   },
   "source": [
    "Spatial coordinates in AnnData\n",
    "------------------------------\n",
    "First, let's generate some data. We will need:\n",
    "\n",
    "  - an array of features (e.g. counts).\n",
    "  - an array of spatial coordinates.\n",
    "  - an image array (e.g. the tissue image)."
   ]
  },
  {
   "cell_type": "code",
   "execution_count": 2,
   "id": "f5b6cf69",
   "metadata": {},
   "outputs": [],
   "source": [
    "rng = default_rng(42)\n",
    "counts = rng.integers(0, 15, size=(10, 100))  # feature matrix\n",
    "coordinates = rng.uniform(0, 10, size=(10, 2))  # spatial coordinates\n",
    "image = rng.uniform(0, 1, size=(10, 10, 3))  # image"
   ]
  },
  {
   "cell_type": "markdown",
   "id": "2f508a24",
   "metadata": {
    "lines_to_next_cell": 0
   },
   "source": [
    "Let's first start with creating the :class:`anndata.AnnData` object.\n",
    "We will first just use the count matrix and the spatial coordinates.\n",
    "Specify the :attr:`anndata.AnnData.obsm` key as `'spatial'` is not strictly necessary\n",
    "but will save you a lot of typing since it's the default for both Squidpy and Scanpy."
   ]
  },
  {
   "cell_type": "code",
   "execution_count": 3,
   "id": "ee71eb4c",
   "metadata": {},
   "outputs": [],
   "source": [
    "adata = AnnData(counts, obsm={\"spatial\": coordinates}, dtype=np.int64)"
   ]
  },
  {
   "cell_type": "markdown",
   "id": "eebeece6",
   "metadata": {
    "lines_to_next_cell": 0
   },
   "source": [
    "Next, let's run a standard Scanpy clustering and umap workflow."
   ]
  },
  {
   "cell_type": "code",
   "execution_count": 4,
   "id": "dc1ec318",
   "metadata": {},
   "outputs": [
    {
     "name": "stdout",
     "output_type": "stream",
     "text": [
      "WARNING: n_obs too small: adjusting to `n_neighbors = 6`\n"
     ]
    },
    {
     "data": {
      "text/plain": [
       "AnnData object with n_obs × n_vars = 10 × 100\n",
       "    obs: 'leiden'\n",
       "    uns: 'log1p', 'pca', 'neighbors', 'umap', 'leiden'\n",
       "    obsm: 'spatial', 'X_pca', 'X_umap'\n",
       "    varm: 'PCs'\n",
       "    obsp: 'distances', 'connectivities'"
      ]
     },
     "execution_count": 4,
     "metadata": {},
     "output_type": "execute_result"
    }
   ],
   "source": [
    "sc.pp.normalize_total(adata)\n",
    "sc.pp.log1p(adata)\n",
    "sc.pp.pca(adata)\n",
    "sc.pp.neighbors(adata)\n",
    "sc.tl.umap(adata)\n",
    "sc.tl.leiden(adata)\n",
    "adata"
   ]
  },
  {
   "cell_type": "markdown",
   "id": "d5b5d109",
   "metadata": {
    "lines_to_next_cell": 0
   },
   "source": [
    "We can visualize the dummy cluster annotation ``adata.obs['leiden']`` in space."
   ]
  },
  {
   "cell_type": "code",
   "execution_count": 5,
   "id": "da872563",
   "metadata": {},
   "outputs": [
    {
     "data": {
      "image/png": "[encoded data removed]",
      "text/plain": [
       "<Figure size 432x288 with 1 Axes>"
      ]
     },
     "metadata": {},
     "output_type": "display_data"
    }
   ],
   "source": [
    "sc.pl.spatial(adata, color=\"leiden\", spot_size=1)"
   ]
  },
  {
   "cell_type": "markdown",
   "id": "d2881ad0",
   "metadata": {
    "lines_to_next_cell": 0
   },
   "source": [
    "Tissue image in AnnData\n",
    "-----------------------\n",
    "For use cases where there is no tissue image, this is all you need\n",
    "to start using Scanpy/Squidpy for your analysis.\n",
    "For instance, you can compute a spatial graph with :func:`squidpy.gr.spatial_neighbors`\n",
    "based on a fixed neighbor radius that is informative given your experimental settings."
   ]
  },
  {
   "cell_type": "code",
   "execution_count": 6,
   "id": "e971a0a7",
   "metadata": {},
   "outputs": [
    {
     "data": {
      "image/png": "[encoded data removed]",
      "text/plain": [
       "<Figure size 432x288 with 1 Axes>"
      ]
     },
     "metadata": {},
     "output_type": "display_data"
    }
   ],
   "source": [
    "sq.gr.spatial_neighbors(adata, coord_type = \"generic\", radius=3.0)\n",
    "sc.pl.spatial(adata, color=\"leiden\", neighbors_key=\"spatial_neighbors\", spot_size=1, edges=True, edges_width=2)"
   ]
  },
  {
   "cell_type": "markdown",
   "id": "03f68d22",
   "metadata": {
    "lines_to_next_cell": 0
   },
   "source": [
    "In case you do have an image of the tissue (or multiple, at different resolutions)\n",
    "this is what you need to know to correctly store it in AnnData.\n",
    "First, let's visualize the mock image from before."
   ]
  },
  {
   "cell_type": "code",
   "execution_count": 7,
   "id": "339b2e5e",
   "metadata": {},
   "outputs": [
    {
     "data": {
      "text/plain": [
       "<matplotlib.image.AxesImage at 0x7fe7924f47c0>"
      ]
     },
     "execution_count": 7,
     "metadata": {},
     "output_type": "execute_result"
    },
    {
     "data": {
      "image/png": "[encoded data removed]",
      "text/plain": [
       "<Figure size 432x288 with 1 Axes>"
      ]
     },
     "metadata": {
      "needs_background": "light"
     },
     "output_type": "display_data"
    }
   ],
   "source": [
    "plt.imshow(image)"
   ]
  },
  {
   "cell_type": "markdown",
   "id": "0101a6d4",
   "metadata": {
    "lines_to_next_cell": 0
   },
   "source": [
    "The image and its metadata are stored in the `uns` slot of :class:`anndata.AnnData`.\n",
    "Specifically, in the ``adata.uns['spatial'][<library_id>]`` slot, where `library_id`\n",
    "is any unique key that refers to the tissue image.\n",
    "\n",
    "For now, we will assume that there is only one image. This is the necessary metadata:\n",
    "\n",
    "  - `tissue_hires_scalef` - this is the scale factor between the spatial coordinates\n",
    "    units and the image pixels. In the case of Visium, this is usually ~0.17. In this case,\n",
    "    we assume that the spatial coordinates are in the same scale of the pixels, and so\n",
    "    we will set this value to 1.\n",
    "  - `spot_diameter_fullres` - this is the diameter of the capture area for each observation.\n",
    "    In the case of Visium, we usually call them `\"spots\"` and this value is set to ~89.\n",
    "\n",
    "Here, we will set it to 0.5."
   ]
  },
  {
   "cell_type": "code",
   "execution_count": 8,
   "id": "4c74728c",
   "metadata": {},
   "outputs": [],
   "source": [
    "spatial_key = \"spatial\"\n",
    "library_id = \"tissue42\"\n",
    "adata.uns[spatial_key] = {library_id: {}}\n",
    "adata.uns[spatial_key][library_id][\"images\"] = {}\n",
    "adata.uns[spatial_key][library_id][\"images\"] = {\"hires\": image}\n",
    "adata.uns[spatial_key][library_id][\"scalefactors\"] = {\"tissue_hires_scalef\": 1, \"spot_diameter_fullres\": 0.5}"
   ]
  },
  {
   "cell_type": "markdown",
   "id": "89d86a52",
   "metadata": {
    "lines_to_next_cell": 0
   },
   "source": [
    "We don't provide the flexibility (yet) to change the values of such keys.\n",
    "These are the keys provided by the Space Ranger output from 10x Genomics Visium\n",
    "and therefore were the first to be adopted. In the future, we might settle to\n",
    "a sightly different structure.\n",
    "But for now, if all such key are correct, :func:`scanpy.pl.spatial` works out of the box."
   ]
  },
  {
   "cell_type": "code",
   "execution_count": 9,
   "id": "98e31319",
   "metadata": {},
   "outputs": [
    {
     "data": {
      "image/png": "[encoded data removed]",
      "text/plain": [
       "<Figure size 432x288 with 1 Axes>"
      ]
     },
     "metadata": {},
     "output_type": "display_data"
    }
   ],
   "source": [
    "sq.pl.spatial_scatter(adata, color=\"leiden\")"
   ]
  },
  {
   "cell_type": "markdown",
   "id": "054e2a28",
   "metadata": {
    "lines_to_next_cell": 0
   },
   "source": [
    "You can fiddle around with the settings to see what changes.\n",
    "For instance, let's change `tissue_hires_scalef` to half the previous value."
   ]
  },
  {
   "cell_type": "code",
   "execution_count": 10,
   "id": "b5042f04",
   "metadata": {},
   "outputs": [
    {
     "data": {
      "image/png": "[encoded data removed]",
      "text/plain": [
       "<Figure size 432x288 with 1 Axes>"
      ]
     },
     "metadata": {},
     "output_type": "display_data"
    }
   ],
   "source": [
    "adata.uns[spatial_key][library_id][\"scalefactors\"] = {\"tissue_hires_scalef\": 0.5, \"spot_diameter_fullres\": 0.5}\n",
    "sq.pl.spatial_scatter(adata, color=\"leiden\")"
   ]
  },
  {
   "cell_type": "code",
   "execution_count": 11,
   "id": "27d2605b-8455-48fd-8e52-21e98c685805",
   "metadata": {},
   "outputs": [
    {
     "data": {
      "image/png": "[encoded data removed]",
      "text/plain": [
       "<Figure size 432x288 with 1 Axes>"
      ]
     },
     "metadata": {},
     "output_type": "display_data"
    }
   ],
   "source": [
    "sq.pl.spatial_scatter(adata, color=\"leiden\", img_cmap=\"gray\")"
   ]
  },
  {
   "cell_type": "markdown",
   "id": "06987764",
   "metadata": {
    "lines_to_next_cell": 0
   },
   "source": [
    "As you can see, the spatial coordinates have been scaled down, and the image\n",
    "was \"zoomed in\".\n",
    "\n",
    "Of course, you might want to \"analyze\" such image. :class:`squidpy.im.ImageContainer`\n",
    "comes to the rescue! Just instantiate a new object and it will work out of the box."
   ]
  },
  {
   "cell_type": "code",
   "execution_count": 12,
   "id": "5441af76",
   "metadata": {},
   "outputs": [
    {
     "data": {
      "image/png": "[encoded data removed]",
      "text/plain": [
       "<Figure size 576x576 with 1 Axes>"
      ]
     },
     "metadata": {
      "needs_background": "light"
     },
     "output_type": "display_data"
    }
   ],
   "source": [
    "img = sq.im.ImageContainer(image)\n",
    "img.show()"
   ]
  }
 ],
 "metadata": {
  "jupytext": {
   "cell_metadata_filter": "-all",
   "executable": "/usr/bin/env python",
   "main_language": "python",
   "notebook_metadata_filter": "-all"
  },
  "kernelspec": {
   "display_name": "Python 3 (ipykernel)",
   "language": "python",
   "name": "python3"
  },
  "language_info": {
   "codemirror_mode": {
    "name": "ipython",
    "version": 3
   },
   "file_extension": ".py",
   "mimetype": "text/x-python",
   "name": "python",
   "nbconvert_exporter": "python",
   "pygments_lexer": "ipython3",
   "version": "3.8.13"
  }
 },
 "nbformat": 4,
 "nbformat_minor": 5
}
