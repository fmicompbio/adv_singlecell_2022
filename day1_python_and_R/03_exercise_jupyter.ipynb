{
 "cells": [
  {
   "cell_type": "markdown",
   "metadata": {},
   "source": [
    "# Combining R & python in RStudio\n",
    "*Michael Stadler*  \n",
    "*April 7, 2022*\n",
    "\n",
    "## Introduciton\n",
    "In this exercise, we will work with a Jupyter notebook and use `rpy2` to enable running of R code. The exercise is following a similar structure as the \"Combining R & Python in RStudio\" exercise.\n",
    "\n",
    "## Links that may be useful during the exercise\n",
    "\n",
    "- \"R Markdown: The Definitive Guide\" (free online book): https://bookdown.org/yihui/rmarkdown/\n",
    "- Jupyter lab (high level overview of basic functionality): https://towardsdatascience.com/jupyter-lab-evolution-of-the-jupyter-notebook-5297cacde6b\n",
    "- IPython magic commands: https://ipython.readthedocs.io/en/stable/interactive/magics.html\n",
    "- `rpy2` documenation: https://rpy2.github.io/doc/latest/html/\n",
    "- `pandas.DataFrame` documentation: https://pandas.pydata.org/pandas-docs/stable/reference/api/pandas.DataFrame.html\n",
    "- `matplotlib` documentation: https://matplotlib.org/contents.html\n",
    "- `ggplot2` documentation: https://ggplot2.tidyverse.org/\n",
    "\n",
    "\n",
    "## Jupyter notebooks and JupyterLab\n",
    "\n",
    "`Jupyter Notebook` is a language agnostic, web-based interactive environment for creating, executing and visualizing Jupyter notebooks, developed by the `Jupyter Project`. The `Jupyter Project` started in 2014 as a spin-off from `IPython` (Interactive Python). IPython continued to exist as a Python shell and kernel for Jupyter, but the notebook interface and other language-agnostic parts of IPython were moved under the Jupyter name. The name `Jupyter` is a reference to core programming languages supported by Jupyter, which are Julia, Python, and R.\n",
    "\n",
    "`JupyterLab` is the latest user interface (first stable release in February 2018) for Project Jupyter and together with RStudio one of the two renku \"Environments\" that we use in our course. `JupyterLab` offers similar building functions as RStudio (notebook, terminal, text editor, file browser, etc.).\n",
    "\n",
    "For more details see the Wikipedia articles for [IPython](https://en.wikipedia.org/wiki/IPython) and [Jupyter Project](https://en.wikipedia.org/wiki/Project_Jupyter).\n",
    "\n",
    "## Jupyter language kernels\n",
    "Different programming languages are supported through *lanuage kernels*. A Jupyter kernel handles various types of requests (e.g. code completion and execution) and generates results to be included in the notebook. A large number of kernels are available for Jupyter (see [link](https://github.com/jupyter/jupyter/wiki/Jupyter-kernels)), however we will be only using the default Python kernel augmented by `rpy2` to work with R. For this to work, R needs to be available on the system.\n",
    "\n",
    "\n",
    "## Use R within Jupyter notebooks\n",
    "In terms of the language integration approaches discussed in the introduction, `rpy2` falls in-between the \"bridge\" and the \"true integration\" approaches: It provides both a specific interfact to run R from python, and it also enables direct use of R within a notebook. In this exercise we will use both approaches intermixed.\n",
    "\n",
    "In order to enable direct use of R code in notebook cells, we use `rpy2`'s `Rmagic` (see [link](https://rpy2.github.io/doc/latest/html/interactive.html#module-rpy2.ipython.rmagic) for details). Please note that this is currently described as an \"experimental package\", and the \"bridge\" interface (e.g. using `rpy2.robjects`) may be preferred in some cases. The `rmagic` extension is loaded using the code below. Amongst other things, that will start and initialize the R process (see also [rpy2.rinterface.initr()](https://rpy2.github.io/doc/latest/html/rinterface.html)), and will enable the `%R` and `%%R` specifiers that mark a code line or chunk as containing R code.\n"
   ]
  },
  {
   "cell_type": "code",
   "execution_count": 1,
   "metadata": {},
   "outputs": [],
   "source": [
    "%load_ext rpy2.ipython"
   ]
  },
  {
   "cell_type": "markdown",
   "metadata": {},
   "source": [
    "A line or chunk of R code are started using:  \n",
    "`%R [OPTIONS] [code [code ...]]`\n",
    "\n",
    "`code` is the R code, and `OPTIONS` are optional.\n",
    "Commonly used `OPTIONS` are:  \n",
    "\n",
    "**Variable sharing**  \n",
    "- `-i INPUT`: Names of Python variable to be assigned to an R variable of the same name. Multiple names can be passed separated only by commas with no whitespace.  \n",
    "- `-o OUTPUT`: Names of R variable to be pushed to Python after executing cell body. Multiple names can be passed separated only by commas with no whitespace.  \n",
    "- `-n`: Enforce to not return anything  \n",
    "\n",
    "**Plotting**  \n",
    "- `-w WIDTH`: Width of the R plotting device  \n",
    "- `-h HEIGHT`: Height of the R plotting device  \n",
    "- `-p POINTSIZE`: Pointsize of the R plotting device  \n",
    "- `-b BG`: Background color of the R plotting device  \n",
    "\n",
    "A full documentation of all supported options is available [here](https://rpy2.github.io/doc/latest/html/interactive.html#module-rpy2.ipython.rmagic).\n",
    "\n",
    "## Share variables between R and Python\n",
    "Let's make some examples. We use `%R` at the beginning of a line to run a single line of R code:"
   ]
  },
  {
   "cell_type": "code",
   "execution_count": 2,
   "metadata": {},
   "outputs": [
    {
     "data": {
      "text/plain": [
       "array([2.])"
      ]
     },
     "execution_count": 2,
     "metadata": {},
     "output_type": "execute_result"
    }
   ],
   "source": [
    "%R x <- 2"
   ]
  },
  {
   "cell_type": "code",
   "execution_count": 3,
   "metadata": {},
   "outputs": [
    {
     "data": {
      "text/plain": [
       "False"
      ]
     },
     "execution_count": 3,
     "metadata": {},
     "output_type": "execute_result"
    }
   ],
   "source": [
    "# this is Python\n",
    "'x' in dir()"
   ]
  },
  {
   "cell_type": "markdown",
   "metadata": {},
   "source": [
    "The value of `x` is shown in the cell's output (default for R-lines with `%R`, but not for R-chunks with `%%R`).\n",
    "\n",
    "To make the variables available in Python, we need ot use `-o` (here using `%%R` at the beginning of the cell to mark all code in the cell as R code):"
   ]
  },
  {
   "cell_type": "code",
   "execution_count": 4,
   "metadata": {},
   "outputs": [],
   "source": [
    "%%R -o z\n",
    "y <- 3\n",
    "z <- 4"
   ]
  },
  {
   "cell_type": "code",
   "execution_count": 5,
   "metadata": {},
   "outputs": [
    {
     "data": {
      "text/plain": [
       "False"
      ]
     },
     "execution_count": 5,
     "metadata": {},
     "output_type": "execute_result"
    }
   ],
   "source": [
    "'y' in dir()"
   ]
  },
  {
   "cell_type": "code",
   "execution_count": 6,
   "metadata": {},
   "outputs": [
    {
     "data": {
      "text/plain": [
       "True"
      ]
     },
     "execution_count": 6,
     "metadata": {},
     "output_type": "execute_result"
    }
   ],
   "source": [
    "'z' in dir()"
   ]
  },
  {
   "cell_type": "code",
   "execution_count": 7,
   "metadata": {},
   "outputs": [
    {
     "data": {
      "text/plain": [
       "array([4.])"
      ]
     },
     "execution_count": 7,
     "metadata": {},
     "output_type": "execute_result"
    }
   ],
   "source": [
    "z"
   ]
  },
  {
   "cell_type": "markdown",
   "metadata": {},
   "source": [
    "You can see that variables that live in the R space are not automatically shared with Python and vice versa, expect if we use `-i` or `-o`.\n",
    "\n",
    "Instead of checking the variables in scope with `dir()`, we can also see all user-defined variables using the `%who` or `%whos` magic (use `%lsmagic` to list available magic commands understood by the IPython kernel, see [here](https://ipython.readthedocs.io/en/stable/interactive/magics.html) for full documentation):"
   ]
  },
  {
   "cell_type": "code",
   "execution_count": 8,
   "metadata": {},
   "outputs": [
    {
     "name": "stdout",
     "output_type": "stream",
     "text": [
      "Variable   Type       Data/Info\n",
      "-------------------------------\n",
      "z          ndarray    1: 1 elems, type `float64`, 8 bytes\n"
     ]
    }
   ],
   "source": [
    "%whos"
   ]
  },
  {
   "cell_type": "markdown",
   "metadata": {},
   "source": [
    "If you want to input or output variables later, this can be done using `%Rpush` or `%Rpull`:"
   ]
  },
  {
   "cell_type": "code",
   "execution_count": 9,
   "metadata": {},
   "outputs": [
    {
     "data": {
      "text/plain": [
       "6.233333333333334"
      ]
     },
     "execution_count": 9,
     "metadata": {},
     "output_type": "execute_result"
    }
   ],
   "source": [
    "import numpy as np\n",
    "a = np.array([4.5,6.3,7.9])\n",
    "%Rpush a\n",
    "np.mean(a)"
   ]
  },
  {
   "cell_type": "code",
   "execution_count": 10,
   "metadata": {},
   "outputs": [
    {
     "data": {
      "text/plain": [
       "array([6.23333333])"
      ]
     },
     "execution_count": 10,
     "metadata": {},
     "output_type": "execute_result"
    }
   ],
   "source": [
    "%R mean(a)"
   ]
  },
  {
   "cell_type": "code",
   "execution_count": 11,
   "metadata": {},
   "outputs": [
    {
     "data": {
      "text/plain": [
       "2.0"
      ]
     },
     "execution_count": 11,
     "metadata": {},
     "output_type": "execute_result"
    }
   ],
   "source": [
    "%Rpull x\n",
    "np.mean(x)"
   ]
  },
  {
   "cell_type": "code",
   "execution_count": 12,
   "metadata": {},
   "outputs": [
    {
     "name": "stdout",
     "output_type": "stream",
     "text": [
      "Variable   Type               Data/Info\n",
      "---------------------------------------\n",
      "a          ndarray            3: 3 elems, type `float64`, 24 bytes\n",
      "np         module             <module 'numpy' from '/tu<...>kages/numpy/__init__.py'>\n",
      "x          FloatSexpVector    <rpy2.rinterface.FloatSex<...>01b7c40> [RTYPES.REALSXP]\n",
      "z          ndarray            1: 1 elems, type `float64`, 8 bytes\n"
     ]
    }
   ],
   "source": [
    "%whos"
   ]
  },
  {
   "cell_type": "markdown",
   "metadata": {},
   "source": [
    "**Remarks:**  \n",
    "- The sharing of variables using `-i`, `-o`, `%Rpull` and `%Rpush` will create **identically named** variables in both R and Python environments, so it may sometimes be clearer to use `rpy2.robjects` (see below) for accessing an R object from Python, rather than creating two objects with identical names.  \n",
    "- Importantly, be aware that R names can have dots ('.'), while in Python the dot is used to call object members. To avoid any issues, don’t use R object names containing dots. In some cases, `rpy2` renames R objects or function arguments, by replacing the dot '.' with an underscore '_' (see below).  \n",
    "- As a reminder, R indexes elements starting from one, while Python starts from zero. `x[1]` would be the first element of `x` in R, but the second element in Python.\n",
    "\n",
    "## `rpy2` low- and high-level interfaces\n",
    "\n",
    "`rpy2` provides a low-level and a high-level interface:  \n",
    "\n",
    "- [rpy2.rinterface](https://rpy2.github.io/doc/latest/html/rinterface.html#module-rpy2.rinterface): Low-level interface to R, when speed and flexibility matter most. Close to R’s C-level API.\n",
    "- [rpy2.robjects](): High-level interface, when ease-of-use matters most. Should be the right pick for casual and general use. Based on the previous one.\n",
    "\n",
    "The Python variable `x` above has type `FloatSexpVector`, which is defined by the low-level interface. The Python object can be considered as Python envelopes pointing to data stored and administered in the R space.\n",
    "\n",
    "In the exercises below, we will however be mostly using the high-level interface that should be more intuitive to use. While low-level objects can be used in most contexts, they are not as easy to work with, for example they are not previewed:"
   ]
  },
  {
   "cell_type": "code",
   "execution_count": 13,
   "metadata": {},
   "outputs": [
    {
     "data": {
      "text/plain": [
       "<rpy2.rinterface.FloatSexpVector object at 0x7f17a01b7c40> [RTYPES.REALSXP]"
      ]
     },
     "execution_count": 13,
     "metadata": {},
     "output_type": "execute_result"
    }
   ],
   "source": [
    "x"
   ]
  },
  {
   "cell_type": "code",
   "execution_count": 14,
   "metadata": {},
   "outputs": [
    {
     "data": {
      "text/plain": [
       "1"
      ]
     },
     "execution_count": 14,
     "metadata": {},
     "output_type": "execute_result"
    }
   ],
   "source": [
    "len(x)"
   ]
  },
  {
   "cell_type": "code",
   "execution_count": 15,
   "metadata": {},
   "outputs": [
    {
     "data": {
      "text/plain": [
       "2.0"
      ]
     },
     "execution_count": 15,
     "metadata": {},
     "output_type": "execute_result"
    }
   ],
   "source": [
    "x[0]"
   ]
  },
  {
   "cell_type": "markdown",
   "metadata": {},
   "source": [
    "## Accessing R objects using the high-level interface `rpy.robjects`\n",
    "\n",
    "When using `rpy2`'s high level interface, objects do have a human-friendly preview.\n",
    "\n",
    "The entry point into the R process is `rpy2.robjects.r`. It is for example able to directly execute R code contained in a string:"
   ]
  },
  {
   "cell_type": "code",
   "execution_count": 16,
   "metadata": {},
   "outputs": [
    {
     "data": {
      "text/html": [
       "\n",
       "        <span>FloatVector with 1 elements.</span>\n",
       "        <table>\n",
       "        <tbody>\n",
       "          <tr>\n",
       "          \n",
       "            <td>\n",
       "            3.000000\n",
       "            </td>\n",
       "          \n",
       "          </tr>\n",
       "        </tbody>\n",
       "        </table>\n",
       "        "
      ],
      "text/plain": [
       "<rpy2.robjects.vectors.FloatVector object at 0x7f17b80acfc0> [RTYPES.REALSXP]\n",
       "R classes: ('numeric',)\n",
       "[3.000000]"
      ]
     },
     "execution_count": 16,
     "metadata": {},
     "output_type": "execute_result"
    }
   ],
   "source": [
    "import rpy2.robjects as robjects\n",
    "robjects.r('1 + 2')"
   ]
  },
  {
   "cell_type": "code",
   "execution_count": 17,
   "metadata": {},
   "outputs": [
    {
     "data": {
      "text/html": [
       "\n",
       "        <span>FloatVector with 1 elements.</span>\n",
       "        <table>\n",
       "        <tbody>\n",
       "          <tr>\n",
       "          \n",
       "            <td>\n",
       "            9.000000\n",
       "            </td>\n",
       "          \n",
       "          </tr>\n",
       "        </tbody>\n",
       "        </table>\n",
       "        "
      ],
      "text/plain": [
       "<rpy2.robjects.vectors.FloatVector object at 0x7f1774b40900> [RTYPES.REALSXP]\n",
       "R classes: ('numeric',)\n",
       "[9.000000]"
      ]
     },
     "execution_count": 17,
     "metadata": {},
     "output_type": "execute_result"
    }
   ],
   "source": [
    "R_square = robjects.r('function(n) n^2')\n",
    "R_square(3.0)"
   ]
  },
  {
   "cell_type": "markdown",
   "metadata": {},
   "source": [
    "Objects that would be accessible from the R environment are accessible as attributes of the `r` instance:"
   ]
  },
  {
   "cell_type": "code",
   "execution_count": 18,
   "metadata": {},
   "outputs": [
    {
     "data": {
      "text/html": [
       "\n",
       "        <span>StrVector with 29 elements.</span>\n",
       "        <table>\n",
       "        <tbody>\n",
       "          <tr>\n",
       "          \n",
       "            <td>\n",
       "            'a'\n",
       "            </td>\n",
       "          \n",
       "            <td>\n",
       "            'jet.colo...\n",
       "            </td>\n",
       "          \n",
       "            <td>\n",
       "            'jet.colo...\n",
       "            </td>\n",
       "          \n",
       "            <td>\n",
       "            ...\n",
       "            </td>\n",
       "          \n",
       "            <td>\n",
       "            'x'\n",
       "            </td>\n",
       "          \n",
       "            <td>\n",
       "            'y'\n",
       "            </td>\n",
       "          \n",
       "            <td>\n",
       "            'z'\n",
       "            </td>\n",
       "          \n",
       "          </tr>\n",
       "        </tbody>\n",
       "        </table>\n",
       "        "
      ],
      "text/plain": [
       "<rpy2.robjects.vectors.StrVector object at 0x7f17a01b7380> [RTYPES.STRSXP]\n",
       "R classes: ('character',)\n",
       "['a', 'jet.colo..., 'jet.colo..., 'myColByV..., ..., 'pointsij', 'x', 'y', 'z']"
      ]
     },
     "execution_count": 18,
     "metadata": {},
     "output_type": "execute_result"
    }
   ],
   "source": [
    "robjects.r.ls()"
   ]
  },
  {
   "cell_type": "code",
   "execution_count": 19,
   "metadata": {},
   "outputs": [
    {
     "data": {
      "text/html": [
       "\n",
       "        <span>FloatVector with 1 elements.</span>\n",
       "        <table>\n",
       "        <tbody>\n",
       "          <tr>\n",
       "          \n",
       "            <td>\n",
       "            2.000000\n",
       "            </td>\n",
       "          \n",
       "          </tr>\n",
       "        </tbody>\n",
       "        </table>\n",
       "        "
      ],
      "text/plain": [
       "<rpy2.robjects.vectors.FloatVector object at 0x7f17b8056ac0> [RTYPES.REALSXP]\n",
       "R classes: ('numeric',)\n",
       "[2.000000]"
      ]
     },
     "execution_count": 19,
     "metadata": {},
     "output_type": "execute_result"
    }
   ],
   "source": [
    "x2 = robjects.r.x\n",
    "x2"
   ]
  },
  {
   "cell_type": "markdown",
   "metadata": {},
   "source": [
    "Also R functions can be accessed in this way:"
   ]
  },
  {
   "cell_type": "code",
   "execution_count": 20,
   "metadata": {},
   "outputs": [
    {
     "data": {
      "text/html": [
       "\n",
       "        <span>FloatVector with 1 elements.</span>\n",
       "        <table>\n",
       "        <tbody>\n",
       "          <tr>\n",
       "          \n",
       "            <td>\n",
       "            6.233333\n",
       "            </td>\n",
       "          \n",
       "          </tr>\n",
       "        </tbody>\n",
       "        </table>\n",
       "        "
      ],
      "text/plain": [
       "<rpy2.robjects.vectors.FloatVector object at 0x7f17c0387c00> [RTYPES.REALSXP]\n",
       "R classes: ('numeric',)\n",
       "[6.233333]"
      ]
     },
     "execution_count": 20,
     "metadata": {},
     "output_type": "execute_result"
    }
   ],
   "source": [
    "R_mean = robjects.r.mean\n",
    "R_mean(robjects.r.a)"
   ]
  },
  {
   "cell_type": "markdown",
   "metadata": {},
   "source": [
    "As mentioned before, dots in the R object name are a problem, so this may not always work. A possible workaround is to access such objects using the `__getitem__()` accessor of `r`:"
   ]
  },
  {
   "cell_type": "code",
   "execution_count": 21,
   "metadata": {},
   "outputs": [
    {
     "data": {
      "text/html": [
       "\n",
       "        <span>BoolVector with 1 elements.</span>\n",
       "        <table>\n",
       "        <tbody>\n",
       "          <tr>\n",
       "          \n",
       "            <td>\n",
       "                   0\n",
       "            </td>\n",
       "          \n",
       "          </tr>\n",
       "        </tbody>\n",
       "        </table>\n",
       "        "
      ],
      "text/plain": [
       "<rpy2.robjects.vectors.BoolVector object at 0x7f1774b46f80> [RTYPES.LGLSXP]\n",
       "R classes: ('logical',)\n",
       "[       0]"
      ]
     },
     "execution_count": 21,
     "metadata": {},
     "output_type": "execute_result"
    }
   ],
   "source": [
    "# robjects.r.is.null would not work\n",
    "is_null = robjects.r['is.null']\n",
    "is_null(x)"
   ]
  },
  {
   "cell_type": "markdown",
   "metadata": {},
   "source": [
    "The above is an example of how to call an R function from Python. R packages can be imported using `rpy2.robjects.pacakges.importr()`:"
   ]
  },
  {
   "cell_type": "code",
   "execution_count": 22,
   "metadata": {},
   "outputs": [],
   "source": [
    "from rpy2.robjects.packages import importr\n",
    "\n",
    "base = importr('base')"
   ]
  },
  {
   "cell_type": "markdown",
   "metadata": {},
   "source": [
    "In the above example, we made the `base` namespace available to Python using `importr()`. Even though objects in that namespace were already accessible before, the `base` Python object now supports code completion and introspection.\n",
    "\n",
    "To try this out, let's first create a vector `n` and the rank it using the two equivalent expressions below (using either `%R` or `base`):"
   ]
  },
  {
   "cell_type": "code",
   "execution_count": 23,
   "metadata": {},
   "outputs": [
    {
     "data": {
      "text/html": [
       "\n",
       "        <span>FloatVector with 5 elements.</span>\n",
       "        <table>\n",
       "        <tbody>\n",
       "          <tr>\n",
       "          \n",
       "            <td>\n",
       "            -0.948399\n",
       "            </td>\n",
       "          \n",
       "            <td>\n",
       "            -0.717642\n",
       "            </td>\n",
       "          \n",
       "            <td>\n",
       "            0.134646\n",
       "            </td>\n",
       "          \n",
       "            <td>\n",
       "            0.265556\n",
       "            </td>\n",
       "          \n",
       "            <td>\n",
       "            -0.133608\n",
       "            </td>\n",
       "          \n",
       "          </tr>\n",
       "        </tbody>\n",
       "        </table>\n",
       "        "
      ],
      "text/plain": [
       "<rpy2.robjects.vectors.FloatVector object at 0x7f1774b1d340> [RTYPES.REALSXP]\n",
       "R classes: ('numeric',)\n",
       "[-0.948399, -0.717642, 0.134646, 0.265556, -0.133608]"
      ]
     },
     "execution_count": 23,
     "metadata": {},
     "output_type": "execute_result"
    }
   ],
   "source": [
    "n = robjects.r.rnorm(5)\n",
    "n"
   ]
  },
  {
   "cell_type": "code",
   "execution_count": 24,
   "metadata": {},
   "outputs": [
    {
     "data": {
      "text/html": [
       "\n",
       "        <span>FloatVector with 5 elements.</span>\n",
       "        <table>\n",
       "        <tbody>\n",
       "          <tr>\n",
       "          \n",
       "            <td>\n",
       "            1.000000\n",
       "            </td>\n",
       "          \n",
       "            <td>\n",
       "            2.000000\n",
       "            </td>\n",
       "          \n",
       "            <td>\n",
       "            4.000000\n",
       "            </td>\n",
       "          \n",
       "            <td>\n",
       "            5.000000\n",
       "            </td>\n",
       "          \n",
       "            <td>\n",
       "            3.000000\n",
       "            </td>\n",
       "          \n",
       "          </tr>\n",
       "        </tbody>\n",
       "        </table>\n",
       "        "
      ],
      "text/plain": [
       "<rpy2.robjects.vectors.FloatVector object at 0x7f17a01b5180> [RTYPES.REALSXP]\n",
       "R classes: ('numeric',)\n",
       "[1.000000, 2.000000, 4.000000, 5.000000, 3.000000]"
      ]
     },
     "execution_count": 24,
     "metadata": {},
     "output_type": "execute_result"
    }
   ],
   "source": [
    "robjects.r.rank(n)"
   ]
  },
  {
   "cell_type": "code",
   "execution_count": 25,
   "metadata": {},
   "outputs": [
    {
     "data": {
      "text/html": [
       "\n",
       "        <span>FloatVector with 5 elements.</span>\n",
       "        <table>\n",
       "        <tbody>\n",
       "          <tr>\n",
       "          \n",
       "            <td>\n",
       "            1.000000\n",
       "            </td>\n",
       "          \n",
       "            <td>\n",
       "            2.000000\n",
       "            </td>\n",
       "          \n",
       "            <td>\n",
       "            4.000000\n",
       "            </td>\n",
       "          \n",
       "            <td>\n",
       "            5.000000\n",
       "            </td>\n",
       "          \n",
       "            <td>\n",
       "            3.000000\n",
       "            </td>\n",
       "          \n",
       "          </tr>\n",
       "        </tbody>\n",
       "        </table>\n",
       "        "
      ],
      "text/plain": [
       "<rpy2.robjects.vectors.FloatVector object at 0x7f176c9bae80> [RTYPES.REALSXP]\n",
       "R classes: ('numeric',)\n",
       "[1.000000, 2.000000, 4.000000, 5.000000, 3.000000]"
      ]
     },
     "execution_count": 25,
     "metadata": {},
     "output_type": "execute_result"
    }
   ],
   "source": [
    "base.rank(n)"
   ]
  },
  {
   "cell_type": "markdown",
   "metadata": {},
   "source": [
    "Note the renaming of object, variable or function argument names containing a dot are renamed (replacing '.' by '_'):"
   ]
  },
  {
   "cell_type": "code",
   "execution_count": 26,
   "metadata": {},
   "outputs": [
    {
     "name": "stdout",
     "output_type": "stream",
     "text": [
      "[1] -0.9483991         NA  0.1346458  0.2655561 -0.1336077\n",
      "\n"
     ]
    }
   ],
   "source": [
    "# make n available in R\n",
    "%Rpush n\n",
    "\n",
    "# add a missing value to n\n",
    "robjects.r('n[2] <- NA')\n",
    "\n",
    "# display the modified n\n",
    "print(robjects.r.n)"
   ]
  },
  {
   "cell_type": "code",
   "execution_count": 27,
   "metadata": {},
   "outputs": [
    {
     "data": {
      "text/plain": [
       "array([1., 5., 3., 4., 2.])"
      ]
     },
     "execution_count": 27,
     "metadata": {},
     "output_type": "execute_result"
    }
   ],
   "source": [
    "# rank it in R\n",
    "%R rank(n, na.last = TRUE)"
   ]
  },
  {
   "cell_type": "code",
   "execution_count": 28,
   "metadata": {},
   "outputs": [
    {
     "data": {
      "text/html": [
       "\n",
       "        <span>FloatVector with 5 elements.</span>\n",
       "        <table>\n",
       "        <tbody>\n",
       "          <tr>\n",
       "          \n",
       "            <td>\n",
       "            1.000000\n",
       "            </td>\n",
       "          \n",
       "            <td>\n",
       "            5.000000\n",
       "            </td>\n",
       "          \n",
       "            <td>\n",
       "            3.000000\n",
       "            </td>\n",
       "          \n",
       "            <td>\n",
       "            4.000000\n",
       "            </td>\n",
       "          \n",
       "            <td>\n",
       "            2.000000\n",
       "            </td>\n",
       "          \n",
       "          </tr>\n",
       "        </tbody>\n",
       "        </table>\n",
       "        "
      ],
      "text/plain": [
       "<rpy2.robjects.vectors.FloatVector object at 0x7f1774aab6c0> [RTYPES.REALSXP]\n",
       "R classes: ('numeric',)\n",
       "[1.000000, 5.000000, 3.000000, 4.000000, 2.000000]"
      ]
     },
     "execution_count": 28,
     "metadata": {},
     "output_type": "execute_result"
    }
   ],
   "source": [
    "# rank it in Python\n",
    "base.rank(robjects.r.n, na_last = True)"
   ]
  },
  {
   "cell_type": "markdown",
   "metadata": {},
   "source": [
    "## Working with tabular data\n",
    "\n",
    "Similarly as for `reticulate` in RStudio, `rpy2` provides specific support to share tabular data between R and Python. There are multiple ways to convert and access an R `data.frame` from Python.\n",
    "\n",
    "By default, `rpy2` will wrap an R `data.frame` using its low-level interface:"
   ]
  },
  {
   "cell_type": "code",
   "execution_count": 29,
   "metadata": {},
   "outputs": [],
   "source": [
    "# pull R's built-in 'iris' data.frame to Python\n",
    "%Rpull iris"
   ]
  },
  {
   "cell_type": "code",
   "execution_count": 30,
   "metadata": {},
   "outputs": [
    {
     "data": {
      "text/plain": [
       "<rpy2.rinterface.ListSexpVector object at 0x7f1774b3d600> [RTYPES.VECSXP]"
      ]
     },
     "execution_count": 30,
     "metadata": {},
     "output_type": "execute_result"
    }
   ],
   "source": [
    "iris"
   ]
  },
  {
   "cell_type": "markdown",
   "metadata": {},
   "source": [
    "Things look much nicer if we explicitely use `rpy2`'s high-level interface:"
   ]
  },
  {
   "cell_type": "code",
   "execution_count": 31,
   "metadata": {},
   "outputs": [
    {
     "data": {
      "text/html": [
       "\n",
       "        <span>R/rpy2 DataFrame (150 x 5)</span>\n",
       "        <table>\n",
       "          <thead>\n",
       "            <tr>\n",
       "              \n",
       "              <th>Sepal.Length</th>\n",
       "              \n",
       "              <th>Sepal.Width</th>\n",
       "              \n",
       "              <th>Petal.Length</th>\n",
       "              \n",
       "              <th>Petal.Width</th>\n",
       "              \n",
       "              <th>Species</th>\n",
       "              \n",
       "            </tr>\n",
       "          </thead>\n",
       "          <tbody>\n",
       "          \n",
       "          <tr>\n",
       "            \n",
       "            <td>\n",
       "              ...\n",
       "            </td>\n",
       "            \n",
       "            <td>\n",
       "              ...\n",
       "            </td>\n",
       "            \n",
       "            <td>\n",
       "              ...\n",
       "            </td>\n",
       "            \n",
       "            <td>\n",
       "              ...\n",
       "            </td>\n",
       "            \n",
       "            <td>\n",
       "              ...\n",
       "            </td>\n",
       "            \n",
       "          </tr>\n",
       "          \n",
       "          </tbody>\n",
       "        </table>\n",
       "    "
      ],
      "text/plain": [
       "<rpy2.robjects.vectors.DataFrame object at 0x7f1785bf4f00> [RTYPES.VECSXP]\n",
       "R classes: ('data.frame',)\n",
       "[FloatSe..., FloatSe..., FloatSe..., FloatSe..., IntSexp...]\n",
       "  Sepal.Length: <class 'rpy2.rinterface.FloatSexpVector'>\n",
       "  <rpy2.rinterface.FloatSexpVector object at 0x7f1785bf4bc0> [RTYPES.REALSXP]\n",
       "  Sepal.Width: <class 'rpy2.rinterface.FloatSexpVector'>\n",
       "  <rpy2.rinterface.FloatSexpVector object at 0x7f176ca0d840> [RTYPES.REALSXP]\n",
       "  Petal.Length: <class 'rpy2.rinterface.FloatSexpVector'>\n",
       "  <rpy2.rinterface.FloatSexpVector object at 0x7f176c96fa40> [RTYPES.REALSXP]\n",
       "  Petal.Width: <class 'rpy2.rinterface.FloatSexpVector'>\n",
       "  <rpy2.rinterface.FloatSexpVector object at 0x7f176ca0d840> [RTYPES.REALSXP]\n",
       "  Species: <class 'rpy2.rinterface.IntSexpVector'>\n",
       "  <rpy2.rinterface.IntSexpVector object at 0x7f176c9d2d80> [RTYPES.INTSXP]"
      ]
     },
     "execution_count": 31,
     "metadata": {},
     "output_type": "execute_result"
    }
   ],
   "source": [
    "iris2 = robjects.r.iris\n",
    "iris2"
   ]
  },
  {
   "cell_type": "markdown",
   "metadata": {},
   "source": [
    "... and they can be made even nicer by activating HTML output in our notebook:"
   ]
  },
  {
   "cell_type": "code",
   "execution_count": 32,
   "metadata": {},
   "outputs": [
    {
     "data": {
      "text/html": [
       "\n",
       "<emph>DataFrame</emph> with 150 rows and\n",
       "  5 columns:\n",
       "<table class=\"docutils\">\n",
       "  <thead>\n",
       "    <tr class=\"rpy2_names\">\n",
       "      <th></th>\n",
       "      <th></th>\n",
       "      <th>Sepal.Length</th>\n",
       "      <th>Sepal.Width</th>\n",
       "      <th>Petal.Length</th>\n",
       "      <th>Petal.Width</th>\n",
       "      <th>Species</th>\n",
       "    </tr>\n",
       "  </thead>\n",
       "  <tbody>\n",
       "    <tr>\n",
       "      <td class=\"rpy2_rowname\">0</td>\n",
       "        <td class=\"rpy2_names\">1</td>\n",
       "      <td>5.1</td>\n",
       "      <td>3.5</td>\n",
       "      <td>1.4</td>\n",
       "      <td>0.2</td>\n",
       "      <td>setosa</td>\n",
       "    </tr>\n",
       "    <tr>\n",
       "      <td class=\"rpy2_rowname\">1</td>\n",
       "        <td class=\"rpy2_names\">2</td>\n",
       "      <td>4.9</td>\n",
       "      <td>3.0</td>\n",
       "      <td>1.4</td>\n",
       "      <td>0.2</td>\n",
       "      <td>setosa</td>\n",
       "    </tr>\n",
       "    <tr>\n",
       "      <td class=\"rpy2_rowname\">2</td>\n",
       "        <td class=\"rpy2_names\">3</td>\n",
       "      <td>4.7</td>\n",
       "      <td>3.2</td>\n",
       "      <td>1.3</td>\n",
       "      <td>0.2</td>\n",
       "      <td>setosa</td>\n",
       "    </tr>\n",
       "    <tr>\n",
       "      <td class=\"rpy2_rowname\">3</td>\n",
       "        <td class=\"rpy2_names\">4</td>\n",
       "      <td>4.6</td>\n",
       "      <td>3.1</td>\n",
       "      <td>1.5</td>\n",
       "      <td>0.2</td>\n",
       "      <td>setosa</td>\n",
       "    </tr>\n",
       "    <tr>\n",
       "      <td class=\"rpy2_rowname\">4</td>\n",
       "        <td class=\"rpy2_names\">5</td>\n",
       "      <td>5.0</td>\n",
       "      <td>3.6</td>\n",
       "      <td>1.4</td>\n",
       "      <td>0.2</td>\n",
       "      <td>setosa</td>\n",
       "    </tr>\n",
       "    <tr>\n",
       "      <td class=\"rpy2_rowname\">5</td>\n",
       "        <td class=\"rpy2_names\">6</td>\n",
       "      <td>5.4</td>\n",
       "      <td>3.9</td>\n",
       "      <td>1.7</td>\n",
       "      <td>0.4</td>\n",
       "      <td>setosa</td>\n",
       "    </tr>\n",
       "    <tr>\n",
       "      <td class=\"rpy2_rowname\">6</td>\n",
       "        <td class=\"rpy2_names\">7</td>\n",
       "      <td>4.6</td>\n",
       "      <td>3.4</td>\n",
       "      <td>1.4</td>\n",
       "      <td>0.3</td>\n",
       "      <td>setosa</td>\n",
       "    </tr>\n",
       "    <tr>\n",
       "      <td class=\"rpy2_rowname\">7</td>\n",
       "        <td class=\"rpy2_names\">8</td>\n",
       "      <td>5.0</td>\n",
       "      <td>3.4</td>\n",
       "      <td>1.5</td>\n",
       "      <td>0.2</td>\n",
       "      <td>setosa</td>\n",
       "    </tr>\n",
       "    <tr>\n",
       "      <td class=\"rpy2_rowname\">...</td>\n",
       "        <td class=\"rpy2_names\">...</td>\n",
       "      <td>...</td>\n",
       "      <td>...</td>\n",
       "      <td>...</td>\n",
       "      <td>...</td>\n",
       "      <td>...</td>\n",
       "    </tr>\n",
       "    <tr>\n",
       "      <td class=\"rpy2_rowname\">148</td>\n",
       "        <td class=\"rpy2_names\">149</td>\n",
       "      <td>6.2</td>\n",
       "      <td>3.4</td>\n",
       "      <td>5.4</td>\n",
       "      <td>2.3</td>\n",
       "      <td>virginica</td>\n",
       "    </tr>\n",
       "    <tr>\n",
       "      <td class=\"rpy2_rowname\">149</td>\n",
       "        <td class=\"rpy2_names\">150</td>\n",
       "      <td>5.9</td>\n",
       "      <td>3.0</td>\n",
       "      <td>5.1</td>\n",
       "      <td>1.8</td>\n",
       "      <td>virginica</td>\n",
       "    </tr>\n",
       "  </tbody>\n",
       "</table>"
      ],
      "text/plain": [
       "<rpy2.robjects.vectors.DataFrame object at 0x7f1785bf4f00> [RTYPES.VECSXP]\n",
       "R classes: ('data.frame',)\n",
       "[FloatSe..., FloatSe..., FloatSe..., FloatSe..., IntSexp...]\n",
       "  Sepal.Length: <class 'rpy2.rinterface.FloatSexpVector'>\n",
       "  <rpy2.rinterface.FloatSexpVector object at 0x7f1774b3dc40> [RTYPES.REALSXP]\n",
       "  Sepal.Width: <class 'rpy2.rinterface.FloatSexpVector'>\n",
       "  <rpy2.rinterface.FloatSexpVector object at 0x7f17b8056fc0> [RTYPES.REALSXP]\n",
       "  Petal.Length: <class 'rpy2.rinterface.FloatSexpVector'>\n",
       "  <rpy2.rinterface.FloatSexpVector object at 0x7f1774b153c0> [RTYPES.REALSXP]\n",
       "  Petal.Width: <class 'rpy2.rinterface.FloatSexpVector'>\n",
       "  <rpy2.rinterface.FloatSexpVector object at 0x7f17c03455c0> [RTYPES.REALSXP]\n",
       "  Species: <class 'rpy2.rinterface.IntSexpVector'>\n",
       "  <rpy2.rinterface.IntSexpVector object at 0x7f176c97a580> [RTYPES.INTSXP]"
      ]
     },
     "execution_count": 32,
     "metadata": {},
     "output_type": "execute_result"
    }
   ],
   "source": [
    "from functools import partial\n",
    "from rpy2.ipython import html\n",
    "html.html_rdataframe=partial(html.html_rdataframe, table_class=\"docutils\")\n",
    "\n",
    "import rpy2.ipython.html\n",
    "rpy2.ipython.html.init_printing()\n",
    "\n",
    "iris2"
   ]
  },
  {
   "cell_type": "markdown",
   "metadata": {},
   "source": [
    "Finally, if you prefer to work with `pandas.DataFrame` objects in Python, you can enable automatic convertsion using:"
   ]
  },
  {
   "cell_type": "code",
   "execution_count": 33,
   "metadata": {},
   "outputs": [
    {
     "data": {
      "text/html": [
       "<div>\n",
       "<style scoped>\n",
       "    .dataframe tbody tr th:only-of-type {\n",
       "        vertical-align: middle;\n",
       "    }\n",
       "\n",
       "    .dataframe tbody tr th {\n",
       "        vertical-align: top;\n",
       "    }\n",
       "\n",
       "    .dataframe thead th {\n",
       "        text-align: right;\n",
       "    }\n",
       "</style>\n",
       "<table border=\"1\" class=\"dataframe\">\n",
       "  <thead>\n",
       "    <tr style=\"text-align: right;\">\n",
       "      <th></th>\n",
       "      <th>Sepal.Length</th>\n",
       "      <th>Sepal.Width</th>\n",
       "      <th>Petal.Length</th>\n",
       "      <th>Petal.Width</th>\n",
       "      <th>Species</th>\n",
       "    </tr>\n",
       "  </thead>\n",
       "  <tbody>\n",
       "    <tr>\n",
       "      <th>1</th>\n",
       "      <td>5.1</td>\n",
       "      <td>3.5</td>\n",
       "      <td>1.4</td>\n",
       "      <td>0.2</td>\n",
       "      <td>setosa</td>\n",
       "    </tr>\n",
       "    <tr>\n",
       "      <th>2</th>\n",
       "      <td>4.9</td>\n",
       "      <td>3.0</td>\n",
       "      <td>1.4</td>\n",
       "      <td>0.2</td>\n",
       "      <td>setosa</td>\n",
       "    </tr>\n",
       "    <tr>\n",
       "      <th>3</th>\n",
       "      <td>4.7</td>\n",
       "      <td>3.2</td>\n",
       "      <td>1.3</td>\n",
       "      <td>0.2</td>\n",
       "      <td>setosa</td>\n",
       "    </tr>\n",
       "    <tr>\n",
       "      <th>4</th>\n",
       "      <td>4.6</td>\n",
       "      <td>3.1</td>\n",
       "      <td>1.5</td>\n",
       "      <td>0.2</td>\n",
       "      <td>setosa</td>\n",
       "    </tr>\n",
       "    <tr>\n",
       "      <th>5</th>\n",
       "      <td>5.0</td>\n",
       "      <td>3.6</td>\n",
       "      <td>1.4</td>\n",
       "      <td>0.2</td>\n",
       "      <td>setosa</td>\n",
       "    </tr>\n",
       "    <tr>\n",
       "      <th>...</th>\n",
       "      <td>...</td>\n",
       "      <td>...</td>\n",
       "      <td>...</td>\n",
       "      <td>...</td>\n",
       "      <td>...</td>\n",
       "    </tr>\n",
       "    <tr>\n",
       "      <th>146</th>\n",
       "      <td>6.7</td>\n",
       "      <td>3.0</td>\n",
       "      <td>5.2</td>\n",
       "      <td>2.3</td>\n",
       "      <td>virginica</td>\n",
       "    </tr>\n",
       "    <tr>\n",
       "      <th>147</th>\n",
       "      <td>6.3</td>\n",
       "      <td>2.5</td>\n",
       "      <td>5.0</td>\n",
       "      <td>1.9</td>\n",
       "      <td>virginica</td>\n",
       "    </tr>\n",
       "    <tr>\n",
       "      <th>148</th>\n",
       "      <td>6.5</td>\n",
       "      <td>3.0</td>\n",
       "      <td>5.2</td>\n",
       "      <td>2.0</td>\n",
       "      <td>virginica</td>\n",
       "    </tr>\n",
       "    <tr>\n",
       "      <th>149</th>\n",
       "      <td>6.2</td>\n",
       "      <td>3.4</td>\n",
       "      <td>5.4</td>\n",
       "      <td>2.3</td>\n",
       "      <td>virginica</td>\n",
       "    </tr>\n",
       "    <tr>\n",
       "      <th>150</th>\n",
       "      <td>5.9</td>\n",
       "      <td>3.0</td>\n",
       "      <td>5.1</td>\n",
       "      <td>1.8</td>\n",
       "      <td>virginica</td>\n",
       "    </tr>\n",
       "  </tbody>\n",
       "</table>\n",
       "<p>150 rows × 5 columns</p>\n",
       "</div>"
      ],
      "text/plain": [
       "     Sepal.Length  Sepal.Width  Petal.Length  Petal.Width    Species\n",
       "1             5.1          3.5           1.4          0.2     setosa\n",
       "2             4.9          3.0           1.4          0.2     setosa\n",
       "3             4.7          3.2           1.3          0.2     setosa\n",
       "4             4.6          3.1           1.5          0.2     setosa\n",
       "5             5.0          3.6           1.4          0.2     setosa\n",
       "..            ...          ...           ...          ...        ...\n",
       "146           6.7          3.0           5.2          2.3  virginica\n",
       "147           6.3          2.5           5.0          1.9  virginica\n",
       "148           6.5          3.0           5.2          2.0  virginica\n",
       "149           6.2          3.4           5.4          2.3  virginica\n",
       "150           5.9          3.0           5.1          1.8  virginica\n",
       "\n",
       "[150 rows x 5 columns]"
      ]
     },
     "execution_count": 33,
     "metadata": {},
     "output_type": "execute_result"
    }
   ],
   "source": [
    "import pandas as pd\n",
    "\n",
    "from rpy2.robjects import pandas2ri\n",
    "pandas2ri.activate()\n",
    "\n",
    "iris3 = robjects.r.iris\n",
    "iris3"
   ]
  },
  {
   "cell_type": "markdown",
   "metadata": {},
   "source": [
    "The activation of a special converter for specific objects (R `data.frame` to Python `pandas.DataFrame` in this case) is a paradigm also available for other types of objects. For example, [anndata2ri](https://github.com/theislab/anndata2ri) provides such a mechanisms for single cell data objects, from R `SingleCellExperiment` to Python `anndata`. But let's stay with tabular data for the moment:\n",
    "\n",
    "In summary, we have at least three possible representations of an R `data.frame`:"
   ]
  },
  {
   "cell_type": "code",
   "execution_count": 34,
   "metadata": {},
   "outputs": [
    {
     "data": {
      "text/plain": [
       "rpy2.rinterface.ListSexpVector"
      ]
     },
     "execution_count": 34,
     "metadata": {},
     "output_type": "execute_result"
    }
   ],
   "source": [
    "# rpy2 (low-level)\n",
    "iris.__class__"
   ]
  },
  {
   "cell_type": "code",
   "execution_count": 35,
   "metadata": {},
   "outputs": [
    {
     "data": {
      "text/plain": [
       "rpy2.robjects.vectors.DataFrame"
      ]
     },
     "execution_count": 35,
     "metadata": {},
     "output_type": "execute_result"
    }
   ],
   "source": [
    "# rpy2 (high-level)\n",
    "iris2.__class__"
   ]
  },
  {
   "cell_type": "code",
   "execution_count": 36,
   "metadata": {},
   "outputs": [
    {
     "data": {
      "text/plain": [
       "pandas.core.frame.DataFrame"
      ]
     },
     "execution_count": 36,
     "metadata": {},
     "output_type": "execute_result"
    }
   ],
   "source": [
    "# pandas\n",
    "iris3.__class__"
   ]
  },
  {
   "cell_type": "markdown",
   "metadata": {},
   "source": [
    "## Plotting\n",
    "\n",
    "As mentioned, R plots are included in the cell's output just like graphical output from Python chunks.\n",
    "\n",
    "For illustration, let's use the `iris` data from above and create the `Sepal.Length` versus `Petal.Length` scatter plot.\n",
    "\n",
    "As an exercise, we will create the plot using different approaches:  \n",
    "- R code, in an R code chunk (using `%%R`, also trying out the `-w`, `-h` and `-p` options to control size)\n",
    "- Python code, using `matplotlib`  \n",
    "- any other possibility?\n"
   ]
  },
  {
   "cell_type": "code",
   "execution_count": 37,
   "metadata": {},
   "outputs": [
    {
     "data": {
      "image/png": "[encoded data removed]"
     },
     "metadata": {},
     "output_type": "display_data"
    }
   ],
   "source": [
    "%%R -w 450 -h 500 -p 16\n",
    "\n",
    "# R code, in an %%R chunk\n",
    "plot(iris$Sepal.Length, iris$Petal.Length, pch = 20,\n",
    "     col = as.numeric(iris$Species) + 1,\n",
    "     xlab = \"Sepal length (mm)\", ylab = \"Petal length (mm)\")\n",
    "legend(\"topleft\", levels(iris$Species), pch = 20, col = 2:4, bty = \"n\")"
   ]
  },
  {
   "cell_type": "code",
   "execution_count": 47,
   "metadata": {},
   "outputs": [
    {
     "data": {
      "image/png": "[encoded data removed]"
     },
     "metadata": {},
     "output_type": "display_data"
    }
   ],
   "source": [
    "%%R -w 450 -h 350\n",
    "\n",
    "# again in R in an %%R chunk, but using ggplot2 and different figure size\n",
    "library(ggplot2)\n",
    "ggplot(iris, aes(x=Sepal.Length, y=Petal.Length, colour=Species)) +\n",
    "         geom_point() +\n",
    "         xlab(\"Sepal length (mm)\") + ylab(\"Petal length (mm)\") +\n",
    "         theme_gray(16)"
   ]
  },
  {
   "cell_type": "code",
   "execution_count": 40,
   "metadata": {},
   "outputs": [
    {
     "data": {
      "text/plain": [
       "Text(0, 0.5, 'Petal length (mm)')"
      ]
     },
     "execution_count": 40,
     "metadata": {},
     "output_type": "execute_result"
    },
    {
     "data": {
      "image/png": "[encoded data removed]",
      "text/plain": [
       "<Figure size 432x288 with 1 Axes>"
      ]
     },
     "metadata": {
      "needs_background": "light"
     },
     "output_type": "display_data"
    }
   ],
   "source": [
    "# in Python, using matplotlib and data from a pandas.DataFrame\n",
    "\n",
    "import matplotlib.pyplot as plt\n",
    "\n",
    "groups = iris3.groupby('Species')\n",
    "\n",
    "fig, ax = plt.subplots()\n",
    "\n",
    "for name, group in groups:\n",
    "    ax.scatter(x = group[\"Sepal.Length\"], y = group[\"Petal.Length\"], label=name)\n",
    "ax.legend()\n",
    "\n",
    "ax.set_xlabel('Sepal length (mm)', fontsize=12)\n",
    "ax.set_ylabel('Petal length (mm)', fontsize=12)\n"
   ]
  },
  {
   "cell_type": "markdown",
   "metadata": {},
   "source": [
    "## Session information\n",
    "\n",
    "As mentioned already in the RStudio exercise, it is good practise to record what packages and versions have been used for an analysis, e.g. using R's `sessionInfo()`:"
   ]
  },
  {
   "cell_type": "code",
   "execution_count": 41,
   "metadata": {},
   "outputs": [
    {
     "name": "stdout",
     "output_type": "stream",
     "text": [
      "R version 4.1.3 (2022-03-10)\n",
      "Platform: x86_64-conda-linux-gnu (64-bit)\n",
      "Running under: CentOS Linux 7 (Core)\n",
      "\n",
      "Matrix products: default\n",
      "BLAS/LAPACK: /tungstenfs/groups/gbioinfo/stadler/documents/teaching/adv_singlecell_2022/day1_python_and_R/pythonenv/lib/libopenblasp-r0.3.20.so\n",
      "\n",
      "locale:\n",
      "[1] C\n",
      "\n",
      "attached base packages:\n",
      "[1] tools     stats     graphics  grDevices utils     datasets  methods   base     \n",
      "\n",
      "other attached packages:\n",
      "[1] ggplot2_3.3.5\n",
      "\n",
      "loaded via a namespace (and not attached):\n",
      " [1] fansi_1.0.3      digest_0.6.29    withr_2.5.0      utf8_1.2.2       crayon_1.5.1     grid_4.1.3      \n",
      " [7] R6_2.5.1         lifecycle_1.0.1  gtable_0.3.0     magrittr_2.0.3   scales_1.1.1     pillar_1.7.0    \n",
      "[13] rlang_1.0.2      cli_3.2.0        farver_2.1.0     vctrs_0.4.0      ellipsis_0.3.2   labeling_0.4.2  \n",
      "[19] glue_1.6.2       munsell_0.5.0    compiler_4.1.3   pkgconfig_2.0.3  colorspace_2.0-3 tibble_3.1.6    \n"
     ]
    }
   ],
   "source": [
    "%R -n print(sessionInfo())"
   ]
  },
  {
   "cell_type": "markdown",
   "metadata": {},
   "source": [
    "... and Python's `sinfo`:"
   ]
  },
  {
   "cell_type": "code",
   "execution_count": 42,
   "metadata": {},
   "outputs": [
    {
     "name": "stdout",
     "output_type": "stream",
     "text": [
      "-----\n",
      "matplotlib  3.5.1\n",
      "numpy       1.22.3\n",
      "pandas      1.4.2\n",
      "rpy2        3.4.5\n",
      "sinfo       0.3.1\n",
      "-----\n",
      "IPython             8.2.0\n",
      "jupyter_client      7.2.1\n",
      "jupyter_core        4.9.2\n",
      "jupyterlab          3.3.2\n",
      "notebook            6.4.10\n",
      "-----\n",
      "Python 3.9.12 | packaged by conda-forge | (main, Mar 24 2022, 23:22:55) [GCC 10.3.0]\n",
      "Linux-3.10.0-1160.25.1.el7.x86_64-x86_64-with-glibc2.17\n",
      "96 logical CPU cores, x86_64\n",
      "-----\n",
      "Session information updated at 2022-04-07 14:27\n"
     ]
    }
   ],
   "source": [
    "# remove R namespace objects not understood by sinfo\n",
    "del base\n",
    "from sinfo import sinfo\n",
    "sinfo()"
   ]
  },
  {
   "cell_type": "code",
   "execution_count": null,
   "metadata": {},
   "outputs": [],
   "source": []
  }
 ],
 "metadata": {
  "kernelspec": {
   "display_name": "Python 3",
   "language": "python",
   "name": "python3"
  },
  "language_info": {
   "codemirror_mode": {
    "name": "ipython",
    "version": 3
   },
   "file_extension": ".py",
   "mimetype": "text/x-python",
   "name": "python",
   "nbconvert_exporter": "python",
   "pygments_lexer": "ipython3",
   "version": "3.9.12"
  }
 },
 "nbformat": 4,
 "nbformat_minor": 4
}
